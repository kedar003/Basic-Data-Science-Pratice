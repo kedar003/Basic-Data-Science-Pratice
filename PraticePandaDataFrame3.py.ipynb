{
 "cells": [
  {
   "cell_type": "markdown",
   "metadata": {},
   "source": [
    "#    Pandas Excersise"
   ]
  },
  {
   "cell_type": "code",
   "execution_count": 1,
   "metadata": {},
   "outputs": [],
   "source": [
    "import pandas as pd"
   ]
  },
  {
   "cell_type": "markdown",
   "metadata": {},
   "source": [
    "# empty dataframe \n"
   ]
  },
  {
   "cell_type": "code",
   "execution_count": 2,
   "metadata": {},
   "outputs": [
    {
     "data": {
      "text/html": [
       "<div>\n",
       "<style scoped>\n",
       "    .dataframe tbody tr th:only-of-type {\n",
       "        vertical-align: middle;\n",
       "    }\n",
       "\n",
       "    .dataframe tbody tr th {\n",
       "        vertical-align: top;\n",
       "    }\n",
       "\n",
       "    .dataframe thead th {\n",
       "        text-align: right;\n",
       "    }\n",
       "</style>\n",
       "<table border=\"1\" class=\"dataframe\">\n",
       "  <thead>\n",
       "    <tr style=\"text-align: right;\">\n",
       "      <th></th>\n",
       "    </tr>\n",
       "  </thead>\n",
       "  <tbody>\n",
       "  </tbody>\n",
       "</table>\n",
       "</div>"
      ],
      "text/plain": [
       "Empty DataFrame\n",
       "Columns: []\n",
       "Index: []"
      ]
     },
     "execution_count": 2,
     "metadata": {},
     "output_type": "execute_result"
    }
   ],
   "source": [
    "df=pd.DataFrame()\n",
    "df"
   ]
  },
  {
   "cell_type": "code",
   "execution_count": 3,
   "metadata": {},
   "outputs": [
    {
     "name": "stdout",
     "output_type": "stream",
     "text": [
      "   0\n",
      "0  1\n",
      "1  2\n",
      "2  2\n",
      "3  2\n",
      "4  3\n",
      "5  3\n",
      "6  4\n",
      "7  4\n"
     ]
    }
   ],
   "source": [
    "data=[1,2,2,2,3,3,4,4]\n",
    "df=pd.DataFrame(data)\n",
    "print(df)"
   ]
  },
  {
   "cell_type": "markdown",
   "metadata": {},
   "source": [
    "# Passing a Dict\n"
   ]
  },
  {
   "cell_type": "code",
   "execution_count": 70,
   "metadata": {},
   "outputs": [
    {
     "name": "stdout",
     "output_type": "stream",
     "text": [
      "         Name  Ages          Education\n",
      "0       Keadr    35           Engineer\n",
      "1       Rohan    45                 BA\n",
      "2  Prathamesh    65           Engineer\n",
      "3    Abhijeet    64     Civil Engineer\n",
      "4        Amit    64  Computer Engineer\n"
     ]
    }
   ],
   "source": [
    "data=[['Keadr',35,'Engineer'],['Rohan',45,'BA'],['Prathamesh',65,\"Engineer\"],['Abhijeet',64,'Civil Engineer'],\n",
    "      ['Amit',64,'Computer Engineer']]\n",
    "df=pd.DataFrame(data,columns=[\"Name\",\"Ages\",\"Education\"])\n",
    "print(df)"
   ]
  },
  {
   "cell_type": "code",
   "execution_count": 5,
   "metadata": {},
   "outputs": [
    {
     "name": "stdout",
     "output_type": "stream",
     "text": [
      "         Name  Ages          Education\n",
      "0       Kedar    35           Engineer\n",
      "1       Rohan    45                 BA\n",
      "2  Prathamesh    65           Engineer\n",
      "3    Abhijeet    64     Civil Engineer\n",
      "4        Amit    64  Computer Engineer\n"
     ]
    },
    {
     "name": "stderr",
     "output_type": "stream",
     "text": [
      "C:\\Users\\KEDAR\\Anaconda3\\lib\\site-packages\\ipykernel_launcher.py:1: SettingWithCopyWarning: \n",
      "A value is trying to be set on a copy of a slice from a DataFrame\n",
      "\n",
      "See the caveats in the documentation: http://pandas.pydata.org/pandas-docs/stable/indexing.html#indexing-view-versus-copy\n",
      "  \"\"\"Entry point for launching an IPython kernel.\n"
     ]
    }
   ],
   "source": [
    "df['Name'][0]='Kedar'\n",
    "print(df)"
   ]
  },
  {
   "cell_type": "code",
   "execution_count": 6,
   "metadata": {},
   "outputs": [
    {
     "name": "stdout",
     "output_type": "stream",
     "text": [
      "         Name  Ages Education\n",
      "0       Kedar  35.0  Engineer\n",
      "1       Rohan  45.0        BA\n",
      "2  Prathamesh  65.0  Engineer\n"
     ]
    }
   ],
   "source": [
    "data=[['Kedar',35,'Engineer'],['Rohan',45,'BA'],['Prathamesh',65,\"Engineer\"]]\n",
    "df=pd.DataFrame(data,columns=[\"Name\",\"Ages\",\"Education\"],dtype=float)\n",
    "print(df)"
   ]
  },
  {
   "cell_type": "markdown",
   "metadata": {},
   "source": [
    "# Create a DataFrame from Dict of ndarrays / Lists\n"
   ]
  },
  {
   "cell_type": "code",
   "execution_count": 7,
   "metadata": {},
   "outputs": [
    {
     "name": "stdout",
     "output_type": "stream",
     "text": [
      "      Name  Ages\n",
      "0    Kedar    25\n",
      "1  Vaibhav    23\n",
      "2  Saurabh    25\n",
      "3  Sushant    21\n",
      "4  Shubham    26\n",
      "5    Omkar    25\n"
     ]
    }
   ],
   "source": [
    "D1={\"Name\":['Kedar','Vaibhav','Saurabh','Sushant','Shubham','Omkar'],\"Ages\":[25,23,25,21,26,25]}\n",
    "df=pd.DataFrame(D1)\n",
    "print(df)"
   ]
  },
  {
   "cell_type": "code",
   "execution_count": 8,
   "metadata": {},
   "outputs": [
    {
     "name": "stdout",
     "output_type": "stream",
     "text": [
      "      Brother    Sister\n",
      "0    Abhijeet  Anagha K\n",
      "1        Amit   Aarti D\n",
      "2       Rohan  Amruta K\n",
      "3  Prathamesh  Trupti C\n",
      "4               Radha P\n"
     ]
    }
   ],
   "source": [
    "D2={'Brother':['Abhijeet','Amit','Rohan','Prathamesh',' '],'Sister':['Anagha K','Aarti D','Amruta K','Trupti C','Radha P']}\n",
    "df=pd.DataFrame(D2)\n",
    "print(df)\n"
   ]
  },
  {
   "cell_type": "markdown",
   "metadata": {},
   "source": [
    "#   create an indexed DataFrame using arrays."
   ]
  },
  {
   "cell_type": "code",
   "execution_count": 9,
   "metadata": {},
   "outputs": [
    {
     "name": "stdout",
     "output_type": "stream",
     "text": [
      "            Name  Ages\n",
      "Friends    Kedar    32\n",
      "Friends  Vaibhav    36\n",
      "Friends  Saurabh    25\n",
      "Friends    Omkar    23\n"
     ]
    }
   ],
   "source": [
    "BD={'Name':['Kedar','Vaibhav','Saurabh','Omkar'],'Ages':[32,36,25,23]}\n",
    "Data=df=pd.DataFrame(BD,index=['Friends','Friends','Friends','Friends'])\n",
    "print(Data)"
   ]
  },
  {
   "cell_type": "code",
   "execution_count": 10,
   "metadata": {},
   "outputs": [
    {
     "name": "stdout",
     "output_type": "stream",
     "text": [
      "        Education\n",
      "Friends       NaN\n",
      "Friends       NaN\n",
      "Friends       NaN\n",
      "Friends       NaN\n"
     ]
    }
   ],
   "source": [
    "BD={'Name':['Kedar','Vaibhav','Saurabh','Omkar'],'Ages':[32,36,25,23]}\n",
    "Data=df=pd.DataFrame(BD,columns=[\"Education\"],index=['Friends','Friends','Friends','Friends'])\n",
    "print(Data)"
   ]
  },
  {
   "cell_type": "code",
   "execution_count": 11,
   "metadata": {},
   "outputs": [
    {
     "name": "stdout",
     "output_type": "stream",
     "text": [
      "            Name  Ages Education\n",
      "Friends    Kedar    32          \n",
      "Friends  Vaibhav    36          \n",
      "Friends  Saurabh    25          \n",
      "Friends    Omkar    23          \n"
     ]
    }
   ],
   "source": [
    "BD={'Name':['Kedar','Vaibhav','Saurabh','Omkar'],'Ages':[32,36,25,23],'Education':['']}\n",
    "Data=df=pd.DataFrame(BD,index=['Friends','Friends','Friends','Friends'])\n",
    "print(Data)"
   ]
  },
  {
   "cell_type": "markdown",
   "metadata": {},
   "source": [
    "# Create a DataFrame from List of Dicts "
   ]
  },
  {
   "cell_type": "code",
   "execution_count": 12,
   "metadata": {},
   "outputs": [
    {
     "name": "stdout",
     "output_type": "stream",
     "text": [
      "         a  b     c\n",
      "number   1  2   NaN\n",
      "numbers  2  3  10.0\n"
     ]
    }
   ],
   "source": [
    "data=[{'a': 1, 'b': 2},{'a': 2, 'b': 3, 'c': 10}]\n",
    "data=df=pd.DataFrame(data,index=['number','numbers'])\n",
    "print(data)"
   ]
  },
  {
   "cell_type": "markdown",
   "metadata": {},
   "source": [
    "\n",
    "# To Declare the Dictionary"
   ]
  },
  {
   "cell_type": "code",
   "execution_count": 13,
   "metadata": {},
   "outputs": [
    {
     "name": "stdout",
     "output_type": "stream",
     "text": [
      "({'key': 43}, {'key': 21}, {'key': 23})\n"
     ]
    }
   ],
   "source": [
    "d1={'key': 43},{'key':21}, {'key': 23} \n",
    "print(d1)"
   ]
  },
  {
   "cell_type": "markdown",
   "metadata": {},
   "source": [
    "#  To Declare the Index in the list from Dict\n"
   ]
  },
  {
   "cell_type": "code",
   "execution_count": 14,
   "metadata": {},
   "outputs": [
    {
     "name": "stdout",
     "output_type": "stream",
     "text": [
      "         a  b     c\n",
      "number   1  2   NaN\n",
      "numbers  2  3  10.0\n"
     ]
    }
   ],
   "source": [
    "data=[{'a': 1, 'b': 2},{'a': 2, 'b': 3, 'c': 10}]\n",
    "data=df=pd.DataFrame(data,index=['number','numbers'])\n",
    "print(data)"
   ]
  },
  {
   "cell_type": "markdown",
   "metadata": {},
   "source": [
    "#  create a DataFrame with a list of dictionaries"
   ]
  },
  {
   "cell_type": "code",
   "execution_count": 15,
   "metadata": {},
   "outputs": [
    {
     "name": "stdout",
     "output_type": "stream",
     "text": [
      "        a  b     c\n",
      "First   1  2   NaN\n",
      "Second  2  3  10.0\n",
      "        a  b1  c1\n",
      "First   1 NaN NaN\n",
      "Second  2 NaN NaN\n"
     ]
    }
   ],
   "source": [
    "data=[{'a': 1, 'b': 2},{'a': 2, 'b': 3, 'c': 10}]\n",
    "#With two column indices, values same as dictionary key\n",
    "df=pd.DataFrame(data,index=['First','Second'],columns=['a','b','c'])\n",
    "print(df)\n",
    "#With two column indices with one index with other name\n",
    "df1=pd.DataFrame(data,index=['First','Second'],columns=['a','b1','c1'])\n",
    "print(df1)\n"
   ]
  },
  {
   "cell_type": "code",
   "execution_count": 17,
   "metadata": {},
   "outputs": [
    {
     "name": "stdout",
     "output_type": "stream",
     "text": [
      "        First  second\n",
      "First    12.0    56.0\n",
      "Second    NaN     NaN\n",
      "        First  second  Three\n",
      "First    12.0    56.0   89.0\n",
      "Second    NaN     NaN    NaN\n"
     ]
    }
   ],
   "source": [
    "data=[{'First': 12,'second':56,'Three':89},{'a':'one','b':'two'}]\n",
    "\n",
    "df=pd.DataFrame(data,index=['First','Second'],columns=['First','second'])\n",
    "print(df)\n",
    "\n",
    "df2=pd.DataFrame(data,index=['First','Second'],columns=['First','second','Three'])\n",
    "print(df2)"
   ]
  },
  {
   "cell_type": "markdown",
   "metadata": {},
   "source": [
    "# DataFrame from Dict of Series"
   ]
  },
  {
   "cell_type": "code",
   "execution_count": 19,
   "metadata": {},
   "outputs": [
    {
     "name": "stdout",
     "output_type": "stream",
     "text": [
      "   one  two\n",
      "a  1.0    1\n",
      "b  2.0    2\n",
      "c  3.0    3\n",
      "d  NaN    4\n"
     ]
    }
   ],
   "source": [
    "data={'one':pd.Series([1,2,3,],index=['a', 'b', 'c']),\n",
    "    'two':pd.Series([1, 2, 3, 4],index=['a','b','c','d'])}  \n",
    "data=df=pd.DataFrame(data)\n",
    "print(df)"
   ]
  },
  {
   "cell_type": "code",
   "execution_count": 47,
   "metadata": {},
   "outputs": [
    {
     "name": "stdout",
     "output_type": "stream",
     "text": [
      "   Fruits  Taste\n",
      "a   Mango  Sweet\n",
      "b  Banana  Sweet\n",
      "c   Apple  Sweet\n",
      "d     NaN  Sweet\n"
     ]
    }
   ],
   "source": [
    "DB={'Fruits':pd.Series(['Mango','Banana','Apple'],index=['a','b','c']),'Taste':pd.Series(['Sweet','Sweet','Sweet','Sweet'],index=['a','b','c','d'])}                                                                       \n",
    "df=pd.DataFrame(DB)\n",
    "print(df)\n",
    "               \n",
    "    "
   ]
  },
  {
   "cell_type": "markdown",
   "metadata": {},
   "source": [
    "# Column Selection"
   ]
  },
  {
   "cell_type": "code",
   "execution_count": 57,
   "metadata": {},
   "outputs": [
    {
     "name": "stdout",
     "output_type": "stream",
     "text": [
      "2\n"
     ]
    }
   ],
   "source": [
    "data1={'one':pd.Series([1,2,3],index=['a','b','c']),\n",
    "    'two':pd.Series([1, 2, 3, 4],index=['a','b','c','d'])}\n",
    "\n",
    "df=pd.DataFrame(data1)\n",
    "#print (df ['one']) # This will Print the First Column\n",
    "print(df['two']['b']) # This will print only the second index from the \"Two\" column\n"
   ]
  },
  {
   "cell_type": "markdown",
   "metadata": {},
   "source": [
    "# Column Addition"
   ]
  },
  {
   "cell_type": "code",
   "execution_count": 66,
   "metadata": {},
   "outputs": [
    {
     "name": "stdout",
     "output_type": "stream",
     "text": [
      "   one  two\n",
      "a  1.0    1\n",
      "b  2.0    2\n",
      "c  3.0    3\n",
      "d  NaN    4\n",
      "Adding another column in the series of dataset\n",
      "   one  two  three\n",
      "a  1.0    1     10\n",
      "b  2.0    2     12\n",
      "c  3.0    3     23\n",
      "d  NaN    4     45\n",
      "Adding another column in the series of dataset\n",
      "   one  two  three  four\n",
      "a  1.0    1     10    20\n",
      "b  2.0    2     12    30\n",
      "c  3.0    3     23    40\n",
      "d  NaN    4     45    50\n",
      "Performing the addition of Column\n",
      "   one  two  three  four  Five\n",
      "a  1.0    1     10    20  21.0\n",
      "b  2.0    2     12    30  32.0\n",
      "c  3.0    3     23    40  43.0\n",
      "d  NaN    4     45    50   NaN\n"
     ]
    }
   ],
   "source": [
    "data1={'one':pd.Series([1,2,3],index=['a','b','c']),\n",
    "    'two':pd.Series([1, 2, 3, 4],index=['a','b','c','d'])}\n",
    "\n",
    "df=pd.DataFrame(data1)\n",
    "print(df)\n",
    "\n",
    "print(\"Adding another column in the series of dataset\")\n",
    "df['three']=pd.Series([10,12,23,45],index=['a','b','c','d'])\n",
    "print(df)\n",
    "\n",
    "print(\"Adding another column in the series of dataset\")\n",
    "df['four']=pd.Series([20,30,40,50],index=['a','b','c','d'])\n",
    "print(df)\n",
    "\n",
    "print(\"Performing the addition of Column\")\n",
    "\n",
    "df['Five']=df['one']+df['four']\n",
    "print(df)\n"
   ]
  },
  {
   "cell_type": "markdown",
   "metadata": {},
   "source": [
    "# Column Deletion"
   ]
  },
  {
   "cell_type": "code",
   "execution_count": 75,
   "metadata": {},
   "outputs": [
    {
     "name": "stdout",
     "output_type": "stream",
     "text": [
      "DataFrame is\n",
      "   one  two  three\n",
      "a  1.0    1   10.0\n",
      "b  2.0    2   20.0\n",
      "c  3.0    3   30.0\n",
      "d  NaN    4    NaN\n",
      "Deletion of \n",
      "   two  three\n",
      "a    1   10.0\n",
      "b    2   20.0\n",
      "c    3   30.0\n",
      "d    4    NaN\n",
      "Pop Function in DataScience which work as Deletion\n"
     ]
    },
    {
     "ename": "TypeError",
     "evalue": "'method' object is not subscriptable",
     "output_type": "error",
     "traceback": [
      "\u001b[1;31m---------------------------------------------------------------------------\u001b[0m",
      "\u001b[1;31mTypeError\u001b[0m                                 Traceback (most recent call last)",
      "\u001b[1;32m<ipython-input-75-f264d746279f>\u001b[0m in \u001b[0;36m<module>\u001b[1;34m\u001b[0m\n\u001b[0;32m     11\u001b[0m \u001b[1;33m\u001b[0m\u001b[0m\n\u001b[0;32m     12\u001b[0m \u001b[0mprint\u001b[0m\u001b[1;33m(\u001b[0m\u001b[1;34m\"Pop Function in DataScience which work as Deletion\"\u001b[0m\u001b[1;33m)\u001b[0m\u001b[1;33m\u001b[0m\u001b[1;33m\u001b[0m\u001b[0m\n\u001b[1;32m---> 13\u001b[1;33m \u001b[0mdf\u001b[0m\u001b[1;33m.\u001b[0m\u001b[0mpop\u001b[0m\u001b[1;33m[\u001b[0m\u001b[1;34m'two'\u001b[0m\u001b[1;33m]\u001b[0m\u001b[1;33m\u001b[0m\u001b[1;33m\u001b[0m\u001b[0m\n\u001b[0m\u001b[0;32m     14\u001b[0m \u001b[0mprint\u001b[0m\u001b[1;33m(\u001b[0m\u001b[0mdf\u001b[0m\u001b[1;33m)\u001b[0m\u001b[1;33m\u001b[0m\u001b[1;33m\u001b[0m\u001b[0m\n",
      "\u001b[1;31mTypeError\u001b[0m: 'method' object is not subscriptable"
     ]
    }
   ],
   "source": [
    "data = {'one' : pd.Series([1, 2, 3], index=['a', 'b', 'c']), \n",
    "   'two' : pd.Series([1, 2, 3, 4], index=['a', 'b', 'c', 'd']), \n",
    "   'three' : pd.Series([10,20,30], index=['a','b','c'])}\n",
    "df=pd.DataFrame(data)\n",
    "print(\"DataFrame is\")\n",
    "print(df)\n",
    "\n",
    "print(\"Deletion of \")\n",
    "del df['one']\n",
    "print(df)\n",
    "\n",
    "print(\"Pop Function in DataScience which work as Deletion\")\n",
    "df.pop['two']\n",
    "print(df)"
   ]
  },
  {
   "cell_type": "code",
   "execution_count": 77,
   "metadata": {},
   "outputs": [
    {
     "name": "stdout",
     "output_type": "stream",
     "text": [
      "Pop Function in DataScience which work as Deletion\n",
      "   three\n",
      "a   10.0\n",
      "b   20.0\n",
      "c   30.0\n",
      "d    NaN\n"
     ]
    }
   ],
   "source": [
    "print(\"Pop Function in DataScience which work as Deletion\")\n",
    "df.pop('two')\n",
    "print(df)"
   ]
  },
  {
   "cell_type": "code",
   "execution_count": 85,
   "metadata": {},
   "outputs": [
    {
     "name": "stdout",
     "output_type": "stream",
     "text": [
      "    Fruits  Prices Flavours\n",
      "0  Mangoes      32    Sweet\n",
      "1    Apple      56    Sweet\n",
      "2   Banana      68    Sweet\n",
      "3   Grapes      96    Sweet\n",
      "    Fruits  Prices\n",
      "0  Mangoes      32\n",
      "1    Apple      56\n",
      "2   Banana      68\n",
      "3   Grapes      96\n"
     ]
    }
   ],
   "source": [
    "data={'Fruits':pd.Series(['Mangoes','Apple','Banana','Grapes']),'Prices':pd.Series([32,56,68,96]),'Flavours':pd.Series(['Sweet','Sweet','Sweet','Sweet'])}\n",
    "df=pd.DataFrame(data)\n",
    "\n",
    "print(df)\n",
    "del df['Flavours']\n",
    "print(df)"
   ]
  },
  {
   "cell_type": "markdown",
   "metadata": {},
   "source": [
    "#  Row Selection, Addition, and Deletion"
   ]
  },
  {
   "cell_type": "markdown",
   "metadata": {},
   "source": [
    "# 1 Selection by Label \n",
    " passing row label to a loc function\n",
    "    "
   ]
  },
  {
   "cell_type": "code",
   "execution_count": 91,
   "metadata": {},
   "outputs": [
    {
     "name": "stdout",
     "output_type": "stream",
     "text": [
      "   one  two\n",
      "a    1    1\n",
      "b    2    2\n",
      "c    3    3\n",
      "d    4    4\n",
      "one    1\n",
      "two    1\n",
      "Name: a, dtype: int64\n",
      "one    2\n",
      "two    2\n",
      "Name: b, dtype: int64\n"
     ]
    }
   ],
   "source": [
    "Data={'one':pd.Series([1,2,3,4],index=['a','b','c','d']),'two':pd.Series([1,2,3,4],index=['a','b','c','d'])}\n",
    "df=pd.DataFrame(Data)\n",
    "print(df)\n",
    "print(df.loc['a'])\n",
    "print(df.loc['b'])"
   ]
  },
  {
   "cell_type": "markdown",
   "metadata": {},
   "source": [
    "#   2 Selection by integer location (iloc) will give you integer value "
   ]
  },
  {
   "cell_type": "code",
   "execution_count": 97,
   "metadata": {},
   "outputs": [
    {
     "name": "stdout",
     "output_type": "stream",
     "text": [
      "   one  two\n",
      "a    1    1\n",
      "b    2    2\n",
      "c    3    3\n",
      "d    4    4\n",
      "one    3\n",
      "two    3\n",
      "Name: c, dtype: int64\n",
      "one    2\n",
      "two    2\n",
      "Name: b, dtype: int64\n"
     ]
    }
   ],
   "source": [
    "Data={'one':pd.Series([1,2,3,4],index=['a','b','c','d']),'two':pd.Series([1,2,3,4],index=['a','b','c','d'])}\n",
    "df=pd.DataFrame(Data)\n",
    "print(df)\n",
    "print(df.iloc[2])\n",
    "print(df.iloc[1])"
   ]
  },
  {
   "cell_type": "markdown",
   "metadata": {},
   "source": [
    "# Slice Rows using Slice notation can select multiplies row"
   ]
  },
  {
   "cell_type": "code",
   "execution_count": 100,
   "metadata": {},
   "outputs": [
    {
     "name": "stdout",
     "output_type": "stream",
     "text": [
      "   one  two\n",
      "a    1    1\n",
      "b    2    2\n",
      "c    3    3\n",
      "d    4    4\n",
      "   one  two\n",
      "c    3    3\n",
      "d    4    4\n",
      "   one  two\n",
      "b    2    2\n"
     ]
    }
   ],
   "source": [
    "Data={'one':pd.Series([1,2,3,4],index=['a','b','c','d']),'two':pd.Series([1,2,3,4],index=['a','b','c','d'])}\n",
    "df=pd.DataFrame(Data)\n",
    "print(df)\n",
    "print(df[2:4])\n",
    "print(df[1:2])\n",
    "print"
   ]
  },
  {
   "cell_type": "code",
   "execution_count": 101,
   "metadata": {},
   "outputs": [
    {
     "name": "stdout",
     "output_type": "stream",
     "text": [
      "   one  two\n",
      "a    1    1\n",
      "b    2    2\n",
      "c    3    3\n",
      "d    4    4\n",
      "   one  two\n",
      "b    2    2\n"
     ]
    }
   ],
   "source": [
    "Data={'one':pd.Series([1,2,3,4],index=['a','b','c','d']),'two':pd.Series([1,2,3,4],index=['a','b','c','d'])}\n",
    "df=pd.DataFrame(Data)\n",
    "print(df)\n",
    "print(df[1:2])"
   ]
  },
  {
   "cell_type": "markdown",
   "metadata": {},
   "source": [
    "#             # Addition of Rows using append Function"
   ]
  },
  {
   "cell_type": "code",
   "execution_count": 102,
   "metadata": {},
   "outputs": [
    {
     "name": "stdout",
     "output_type": "stream",
     "text": [
      "   a  b\n",
      "0  1  2\n",
      "1  3  4\n"
     ]
    }
   ],
   "source": [
    "df = pd.DataFrame([[1, 2], [3, 4]], columns = ['a','b'])\n",
    "\n",
    "print(df)"
   ]
  },
  {
   "cell_type": "code",
   "execution_count": 109,
   "metadata": {},
   "outputs": [
    {
     "name": "stdout",
     "output_type": "stream",
     "text": [
      "   a  b\n",
      "0  1  2\n",
      "1  3  4\n",
      "0  5  6\n",
      "1  7  8\n"
     ]
    }
   ],
   "source": [
    "\n",
    "df = pd.DataFrame([[1, 2], [3, 4]], columns = ['a','b'])\n",
    "df2 = pd.DataFrame([[5, 6], [7, 8]], columns = ['a','b'])\n",
    "df=df.append(df2)\n",
    "print(df)"
   ]
  },
  {
   "cell_type": "markdown",
   "metadata": {},
   "source": [
    "# Here is an end of Dataframe from Pandas Package"
   ]
  }
 ],
 "metadata": {
  "kernelspec": {
   "display_name": "Python 3",
   "language": "python",
   "name": "python3"
  },
  "language_info": {
   "codemirror_mode": {
    "name": "ipython",
    "version": 3
   },
   "file_extension": ".py",
   "mimetype": "text/x-python",
   "name": "python",
   "nbconvert_exporter": "python",
   "pygments_lexer": "ipython3",
   "version": "3.7.3"
  }
 },
 "nbformat": 4,
 "nbformat_minor": 2
}
